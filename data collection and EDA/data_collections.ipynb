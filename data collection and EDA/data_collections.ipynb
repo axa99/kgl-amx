{
 "cells": [
  {
   "cell_type": "code",
   "execution_count": 1,
   "metadata": {},
   "outputs": [],
   "source": [
    "import pandas as pd\n",
    "from collections import Counter\n",
    "import numpy as np\n",
    "from pycaret.classification import ClassificationExperiment"
   ]
  },
  {
   "attachments": {},
   "cell_type": "markdown",
   "metadata": {},
   "source": [
    "- The dataset is from the [American Express - Default Prediction](https://www.kaggle.com/competitions/amex-default-prediction/overview)  kaggle competition. \n",
    "- Goal of the competition is predict credit default based on the customer's monthly profile.\n",
    "- For each customer, 189 features are provided in the dataset"
   ]
  },
  {
   "cell_type": "code",
   "execution_count": 2,
   "metadata": {},
   "outputs": [],
   "source": [
    "train_data = pd.read_feather('../data/train_data.ftr')"
   ]
  },
  {
   "cell_type": "code",
   "execution_count": 3,
   "metadata": {},
   "outputs": [
    {
     "data": {
      "text/plain": [
       "(5531451, 191)"
      ]
     },
     "execution_count": 3,
     "metadata": {},
     "output_type": "execute_result"
    }
   ],
   "source": [
    "train_data.shape"
   ]
  },
  {
   "cell_type": "code",
   "execution_count": 5,
   "metadata": {},
   "outputs": [
    {
     "data": {
      "text/plain": [
       "Index(['customer_ID', 'S_2', 'P_2', 'D_39', 'B_1', 'B_2', 'R_1', 'S_3', 'D_41',\n",
       "       'B_3',\n",
       "       ...\n",
       "       'D_137', 'D_138', 'D_139', 'D_140', 'D_141', 'D_142', 'D_143', 'D_144',\n",
       "       'D_145', 'target'],\n",
       "      dtype='object', length=191)"
      ]
     },
     "execution_count": 5,
     "metadata": {},
     "output_type": "execute_result"
    }
   ],
   "source": [
    "train_data.columns"
   ]
  },
  {
   "cell_type": "code",
   "execution_count": 6,
   "metadata": {},
   "outputs": [],
   "source": [
    "# list of feature columns\n",
    "feature_cols = [col for col in train_data.columns if col not in ['customer_ID','S_2', 'target']]\n",
    "# list of categorical columns\n",
    "cat_cols = [col for col in feature_cols if train_data[col].dtype == 'object']\n",
    "# list of numerical columns\n",
    "num_cols = [col for col in feature_cols if train_data[col].dtype != 'object']\n"
   ]
  },
  {
   "cell_type": "code",
   "execution_count": 7,
   "metadata": {},
   "outputs": [
    {
     "data": {
      "text/html": [
       "<div>\n",
       "<style scoped>\n",
       "    .dataframe tbody tr th:only-of-type {\n",
       "        vertical-align: middle;\n",
       "    }\n",
       "\n",
       "    .dataframe tbody tr th {\n",
       "        vertical-align: top;\n",
       "    }\n",
       "\n",
       "    .dataframe thead th {\n",
       "        text-align: right;\n",
       "    }\n",
       "</style>\n",
       "<table border=\"1\" class=\"dataframe\">\n",
       "  <thead>\n",
       "    <tr style=\"text-align: right;\">\n",
       "      <th></th>\n",
       "      <th>customer_ID</th>\n",
       "      <th>S_2</th>\n",
       "      <th>P_2</th>\n",
       "      <th>D_39</th>\n",
       "      <th>B_1</th>\n",
       "      <th>B_2</th>\n",
       "      <th>R_1</th>\n",
       "      <th>S_3</th>\n",
       "      <th>D_41</th>\n",
       "      <th>B_3</th>\n",
       "      <th>...</th>\n",
       "      <th>D_137</th>\n",
       "      <th>D_138</th>\n",
       "      <th>D_139</th>\n",
       "      <th>D_140</th>\n",
       "      <th>D_141</th>\n",
       "      <th>D_142</th>\n",
       "      <th>D_143</th>\n",
       "      <th>D_144</th>\n",
       "      <th>D_145</th>\n",
       "      <th>target</th>\n",
       "    </tr>\n",
       "  </thead>\n",
       "  <tbody>\n",
       "    <tr>\n",
       "      <th>0</th>\n",
       "      <td>0000099d6bd597052cdcda90ffabf56573fe9d7c79be5f...</td>\n",
       "      <td>2017-03-09</td>\n",
       "      <td>0.938477</td>\n",
       "      <td>0.001734</td>\n",
       "      <td>0.008728</td>\n",
       "      <td>1.006836</td>\n",
       "      <td>0.009224</td>\n",
       "      <td>0.124023</td>\n",
       "      <td>0.008774</td>\n",
       "      <td>0.004707</td>\n",
       "      <td>...</td>\n",
       "      <td>NaN</td>\n",
       "      <td>NaN</td>\n",
       "      <td>0.002426</td>\n",
       "      <td>0.003706</td>\n",
       "      <td>0.003819</td>\n",
       "      <td>NaN</td>\n",
       "      <td>0.000569</td>\n",
       "      <td>0.000610</td>\n",
       "      <td>0.002674</td>\n",
       "      <td>0</td>\n",
       "    </tr>\n",
       "    <tr>\n",
       "      <th>1</th>\n",
       "      <td>0000099d6bd597052cdcda90ffabf56573fe9d7c79be5f...</td>\n",
       "      <td>2017-04-07</td>\n",
       "      <td>0.936523</td>\n",
       "      <td>0.005775</td>\n",
       "      <td>0.004925</td>\n",
       "      <td>1.000977</td>\n",
       "      <td>0.006153</td>\n",
       "      <td>0.126709</td>\n",
       "      <td>0.000798</td>\n",
       "      <td>0.002714</td>\n",
       "      <td>...</td>\n",
       "      <td>NaN</td>\n",
       "      <td>NaN</td>\n",
       "      <td>0.003956</td>\n",
       "      <td>0.003166</td>\n",
       "      <td>0.005032</td>\n",
       "      <td>NaN</td>\n",
       "      <td>0.009575</td>\n",
       "      <td>0.005493</td>\n",
       "      <td>0.009216</td>\n",
       "      <td>0</td>\n",
       "    </tr>\n",
       "    <tr>\n",
       "      <th>2</th>\n",
       "      <td>0000099d6bd597052cdcda90ffabf56573fe9d7c79be5f...</td>\n",
       "      <td>2017-05-28</td>\n",
       "      <td>0.954102</td>\n",
       "      <td>0.091492</td>\n",
       "      <td>0.021652</td>\n",
       "      <td>1.009766</td>\n",
       "      <td>0.006817</td>\n",
       "      <td>0.123962</td>\n",
       "      <td>0.007599</td>\n",
       "      <td>0.009422</td>\n",
       "      <td>...</td>\n",
       "      <td>NaN</td>\n",
       "      <td>NaN</td>\n",
       "      <td>0.003269</td>\n",
       "      <td>0.007328</td>\n",
       "      <td>0.000427</td>\n",
       "      <td>NaN</td>\n",
       "      <td>0.003429</td>\n",
       "      <td>0.006985</td>\n",
       "      <td>0.002604</td>\n",
       "      <td>0</td>\n",
       "    </tr>\n",
       "    <tr>\n",
       "      <th>3</th>\n",
       "      <td>0000099d6bd597052cdcda90ffabf56573fe9d7c79be5f...</td>\n",
       "      <td>2017-06-13</td>\n",
       "      <td>0.960449</td>\n",
       "      <td>0.002455</td>\n",
       "      <td>0.013687</td>\n",
       "      <td>1.002930</td>\n",
       "      <td>0.001372</td>\n",
       "      <td>0.117188</td>\n",
       "      <td>0.000685</td>\n",
       "      <td>0.005531</td>\n",
       "      <td>...</td>\n",
       "      <td>NaN</td>\n",
       "      <td>NaN</td>\n",
       "      <td>0.006119</td>\n",
       "      <td>0.004517</td>\n",
       "      <td>0.003201</td>\n",
       "      <td>NaN</td>\n",
       "      <td>0.008423</td>\n",
       "      <td>0.006527</td>\n",
       "      <td>0.009598</td>\n",
       "      <td>0</td>\n",
       "    </tr>\n",
       "    <tr>\n",
       "      <th>4</th>\n",
       "      <td>0000099d6bd597052cdcda90ffabf56573fe9d7c79be5f...</td>\n",
       "      <td>2017-07-16</td>\n",
       "      <td>0.947266</td>\n",
       "      <td>0.002483</td>\n",
       "      <td>0.015190</td>\n",
       "      <td>1.000977</td>\n",
       "      <td>0.007607</td>\n",
       "      <td>0.117310</td>\n",
       "      <td>0.004654</td>\n",
       "      <td>0.009308</td>\n",
       "      <td>...</td>\n",
       "      <td>NaN</td>\n",
       "      <td>NaN</td>\n",
       "      <td>0.003672</td>\n",
       "      <td>0.004944</td>\n",
       "      <td>0.008888</td>\n",
       "      <td>NaN</td>\n",
       "      <td>0.001670</td>\n",
       "      <td>0.008125</td>\n",
       "      <td>0.009827</td>\n",
       "      <td>0</td>\n",
       "    </tr>\n",
       "  </tbody>\n",
       "</table>\n",
       "<p>5 rows × 191 columns</p>\n",
       "</div>"
      ],
      "text/plain": [
       "                                         customer_ID        S_2       P_2  \\\n",
       "0  0000099d6bd597052cdcda90ffabf56573fe9d7c79be5f... 2017-03-09  0.938477   \n",
       "1  0000099d6bd597052cdcda90ffabf56573fe9d7c79be5f... 2017-04-07  0.936523   \n",
       "2  0000099d6bd597052cdcda90ffabf56573fe9d7c79be5f... 2017-05-28  0.954102   \n",
       "3  0000099d6bd597052cdcda90ffabf56573fe9d7c79be5f... 2017-06-13  0.960449   \n",
       "4  0000099d6bd597052cdcda90ffabf56573fe9d7c79be5f... 2017-07-16  0.947266   \n",
       "\n",
       "       D_39       B_1       B_2       R_1       S_3      D_41       B_3  ...  \\\n",
       "0  0.001734  0.008728  1.006836  0.009224  0.124023  0.008774  0.004707  ...   \n",
       "1  0.005775  0.004925  1.000977  0.006153  0.126709  0.000798  0.002714  ...   \n",
       "2  0.091492  0.021652  1.009766  0.006817  0.123962  0.007599  0.009422  ...   \n",
       "3  0.002455  0.013687  1.002930  0.001372  0.117188  0.000685  0.005531  ...   \n",
       "4  0.002483  0.015190  1.000977  0.007607  0.117310  0.004654  0.009308  ...   \n",
       "\n",
       "   D_137  D_138     D_139     D_140     D_141  D_142     D_143     D_144  \\\n",
       "0    NaN    NaN  0.002426  0.003706  0.003819    NaN  0.000569  0.000610   \n",
       "1    NaN    NaN  0.003956  0.003166  0.005032    NaN  0.009575  0.005493   \n",
       "2    NaN    NaN  0.003269  0.007328  0.000427    NaN  0.003429  0.006985   \n",
       "3    NaN    NaN  0.006119  0.004517  0.003201    NaN  0.008423  0.006527   \n",
       "4    NaN    NaN  0.003672  0.004944  0.008888    NaN  0.001670  0.008125   \n",
       "\n",
       "      D_145  target  \n",
       "0  0.002674       0  \n",
       "1  0.009216       0  \n",
       "2  0.002604       0  \n",
       "3  0.009598       0  \n",
       "4  0.009827       0  \n",
       "\n",
       "[5 rows x 191 columns]"
      ]
     },
     "execution_count": 7,
     "metadata": {},
     "output_type": "execute_result"
    }
   ],
   "source": [
    "train_data.head()"
   ]
  },
  {
   "attachments": {},
   "cell_type": "markdown",
   "metadata": {},
   "source": [
    "The features for each customer are divided into the following 5 categories:\n",
    "  1. D_* = Delinquency variables\n",
    "  2. S_* = Spend variables\n",
    "  3. P_* = Payment variables\n",
    "  4. B_* = Balance variables\n",
    "  5. R_* = Risk variables"
   ]
  },
  {
   "cell_type": "code",
   "execution_count": 8,
   "metadata": {},
   "outputs": [
    {
     "data": {
      "text/html": [
       "<div>\n",
       "<style scoped>\n",
       "    .dataframe tbody tr th:only-of-type {\n",
       "        vertical-align: middle;\n",
       "    }\n",
       "\n",
       "    .dataframe tbody tr th {\n",
       "        vertical-align: top;\n",
       "    }\n",
       "\n",
       "    .dataframe thead th {\n",
       "        text-align: right;\n",
       "    }\n",
       "</style>\n",
       "<table border=\"1\" class=\"dataframe\">\n",
       "  <thead>\n",
       "    <tr style=\"text-align: right;\">\n",
       "      <th></th>\n",
       "      <th>count</th>\n",
       "    </tr>\n",
       "  </thead>\n",
       "  <tbody>\n",
       "    <tr>\n",
       "      <th>S</th>\n",
       "      <td>22</td>\n",
       "    </tr>\n",
       "    <tr>\n",
       "      <th>P</th>\n",
       "      <td>3</td>\n",
       "    </tr>\n",
       "    <tr>\n",
       "      <th>D</th>\n",
       "      <td>96</td>\n",
       "    </tr>\n",
       "    <tr>\n",
       "      <th>B</th>\n",
       "      <td>40</td>\n",
       "    </tr>\n",
       "    <tr>\n",
       "      <th>R</th>\n",
       "      <td>28</td>\n",
       "    </tr>\n",
       "  </tbody>\n",
       "</table>\n",
       "</div>"
      ],
      "text/plain": [
       "   count\n",
       "S     22\n",
       "P      3\n",
       "D     96\n",
       "B     40\n",
       "R     28"
      ]
     },
     "execution_count": 8,
     "metadata": {},
     "output_type": "execute_result"
    }
   ],
   "source": [
    "count_of_feature_type = Counter([\n",
    "    x.split('_')[0] for x in train_data.columns\n",
    "    if x not in ['customer_ID', 'target']\n",
    "])\n",
    "count_of_feature_type = pd.DataFrame(count_of_feature_type, index=['count']).T\n",
    "count_of_feature_type"
   ]
  },
  {
   "cell_type": "code",
   "execution_count": 9,
   "metadata": {},
   "outputs": [
    {
     "name": "stdout",
     "output_type": "stream",
     "text": [
      "0    0.750903\n",
      "1    0.249097\n",
      "Name: target, dtype: float64\n"
     ]
    },
    {
     "data": {
      "text/plain": [
       "<AxesSubplot: title={'center': 'Target Distribution'}>"
      ]
     },
     "execution_count": 9,
     "metadata": {},
     "output_type": "execute_result"
    },
    {
     "data": {
      "image/png": "[encoded data removed]",
      "text/plain": [
       "<Figure size 800x550 with 1 Axes>"
      ]
     },
     "metadata": {},
     "output_type": "display_data"
    }
   ],
   "source": [
    "# calculate the percentage of training data that is 1 and 0\n",
    "print(train_data['target'].value_counts(normalize=True))\n",
    "train_data['target'].value_counts().plot(kind='bar',\n",
    "                                         title='Target Distribution')\n"
   ]
  },
  {
   "cell_type": "code",
   "execution_count": 10,
   "metadata": {},
   "outputs": [],
   "source": [
    "train_data = train_data.sort_values(by=['customer_ID', 'S_2'])"
   ]
  },
  {
   "cell_type": "code",
   "execution_count": 11,
   "metadata": {},
   "outputs": [],
   "source": [
    "# Extract the date information from the date column\n",
    "train_data['Month'] = [i.month for i in train_data['S_2']]\n",
    "train_data['Day'] = [i.day for i in train_data['S_2']]\n",
    "train_data['Year'] = [i.year for i in train_data['S_2']]"
   ]
  },
  {
   "cell_type": "code",
   "execution_count": 12,
   "metadata": {},
   "outputs": [
    {
     "data": {
      "text/plain": [
       "<AxesSubplot: title={'center': 'Number of rows per customer'}, ylabel='Frequency'>"
      ]
     },
     "execution_count": 12,
     "metadata": {},
     "output_type": "execute_result"
    },
    {
     "data": {
      "image/png": "[encoded data removed]",
      "text/plain": [
       "<Figure size 800x550 with 1 Axes>"
      ]
     },
     "metadata": {},
     "output_type": "display_data"
    }
   ],
   "source": [
    "# calculate and plot the number of rows of data for each customer\n",
    "customer_count = train_data['customer_ID'].value_counts()\n",
    "customer_count.plot(kind='hist', title='Number of rows per customer')\n"
   ]
  },
  {
   "cell_type": "code",
   "execution_count": 13,
   "metadata": {},
   "outputs": [
    {
     "data": {
      "text/plain": [
       "13"
      ]
     },
     "execution_count": 13,
     "metadata": {},
     "output_type": "execute_result"
    }
   ],
   "source": [
    "customer_count.max()"
   ]
  },
  {
   "cell_type": "code",
   "execution_count": 47,
   "metadata": {},
   "outputs": [],
   "source": [
    "# pick random sample of customer_IDs from train_data\n",
    "np.random.seed(42)\n",
    "customer_ID_rand = np.random.choice(train_data['customer_ID'], 30000, replace=False)"
   ]
  },
  {
   "cell_type": "code",
   "execution_count": 48,
   "metadata": {},
   "outputs": [],
   "source": [
    "train_rndm_sample = train_data[train_data['customer_ID'].isin(customer_ID_rand)]\n"
   ]
  },
  {
   "cell_type": "code",
   "execution_count": 49,
   "metadata": {},
   "outputs": [
    {
     "data": {
      "text/plain": [
       "(366008, 194)"
      ]
     },
     "execution_count": 49,
     "metadata": {},
     "output_type": "execute_result"
    }
   ],
   "source": [
    "train_rndm_sample.shape"
   ]
  },
  {
   "cell_type": "code",
   "execution_count": 50,
   "metadata": {},
   "outputs": [],
   "source": [
    "train_rndm_sample.to_csv('../data/train_rndm_sample.csv', index=False)"
   ]
  },
  {
   "cell_type": "code",
   "execution_count": 19,
   "metadata": {},
   "outputs": [],
   "source": [
    "# customer_IDs that are not in the random sample for the training data\n",
    "customer_ID_not_train = list(set(train_data['customer_ID']).difference(set(customer_ID_rand)))\n",
    "\n",
    "# pick random sample of customer_IDs from customer_ID_not_train\n",
    "customer_ID_test_rnd = np.random.choice(customer_ID_not_train, 30000, replace=False)\n",
    "\n",
    "# test data based on the random sample of customer_IDs\n",
    "test_rndm_sample = train_data[train_data['customer_ID'].isin(customer_ID_test_rnd)].sort_values(by=['customer_ID', 'S_2'])"
   ]
  },
  {
   "cell_type": "code",
   "execution_count": 20,
   "metadata": {},
   "outputs": [
    {
     "data": {
      "text/plain": [
       "(360395, 194)"
      ]
     },
     "execution_count": 20,
     "metadata": {},
     "output_type": "execute_result"
    }
   ],
   "source": [
    "test_rndm_sample.shape"
   ]
  },
  {
   "attachments": {},
   "cell_type": "markdown",
   "metadata": {},
   "source": [
    "### Pycaret"
   ]
  },
  {
   "cell_type": "code",
   "execution_count": 93,
   "metadata": {},
   "outputs": [],
   "source": [
    "# drop customer_ID and S_2 from train and test data\n",
    "train_rndm_sample.drop(['customer_ID', 'S_2'], axis=1, inplace=True)\n",
    "test_rndm_sample.drop(['customer_ID', 'S_2'], axis=1, inplace=True)"
   ]
  },
  {
   "cell_type": "code",
   "execution_count": 94,
   "metadata": {},
   "outputs": [
    {
     "name": "stdout",
     "output_type": "stream",
     "text": [
      "0    0.761049\n",
      "1    0.238951\n",
      "Name: target, dtype: float64\n"
     ]
    },
    {
     "data": {
      "image/png": "[encoded data removed]",
      "text/plain": [
       "<Figure size 800x550 with 1 Axes>"
      ]
     },
     "metadata": {},
     "output_type": "display_data"
    }
   ],
   "source": [
    "# calculate the percentage of training data sample that is 1 and 0\n",
    "print(train_rndm_sample['target'].value_counts(normalize=True))\n",
    "train_rndm_sample['target'].value_counts().plot(kind='bar',\n",
    "                                         title='Target Distribution');"
   ]
  },
  {
   "cell_type": "code",
   "execution_count": 39,
   "metadata": {},
   "outputs": [
    {
     "data": {
      "text/plain": [
       "<pycaret.classification.oop.ClassificationExperiment at 0x35516cc70>"
      ]
     },
     "execution_count": 39,
     "metadata": {},
     "output_type": "execute_result"
    }
   ],
   "source": [
    "s = ClassificationExperiment()\n",
    "s.setup(data=train_rndm_sample, target='target', normalize=True, session_id=123, fix_imbalance=True )"
   ]
  },
  {
   "cell_type": "code",
   "execution_count": 40,
   "metadata": {},
   "outputs": [
    {
     "data": {
      "text/html": [
       "<div>\n",
       "<style scoped>\n",
       "    .dataframe tbody tr th:only-of-type {\n",
       "        vertical-align: middle;\n",
       "    }\n",
       "\n",
       "    .dataframe tbody tr th {\n",
       "        vertical-align: top;\n",
       "    }\n",
       "\n",
       "    .dataframe thead th {\n",
       "        text-align: right;\n",
       "    }\n",
       "</style>\n",
       "<table border=\"1\" class=\"dataframe\">\n",
       "  <thead>\n",
       "    <tr style=\"text-align: right;\">\n",
       "      <th></th>\n",
       "      <th>Name</th>\n",
       "      <th>Reference</th>\n",
       "      <th>Turbo</th>\n",
       "    </tr>\n",
       "    <tr>\n",
       "      <th>ID</th>\n",
       "      <th></th>\n",
       "      <th></th>\n",
       "      <th></th>\n",
       "    </tr>\n",
       "  </thead>\n",
       "  <tbody>\n",
       "    <tr>\n",
       "      <th>lr</th>\n",
       "      <td>Logistic Regression</td>\n",
       "      <td>sklearn.linear_model._logistic.LogisticRegression</td>\n",
       "      <td>True</td>\n",
       "    </tr>\n",
       "    <tr>\n",
       "      <th>knn</th>\n",
       "      <td>K Neighbors Classifier</td>\n",
       "      <td>sklearn.neighbors._classification.KNeighborsCl...</td>\n",
       "      <td>True</td>\n",
       "    </tr>\n",
       "    <tr>\n",
       "      <th>nb</th>\n",
       "      <td>Naive Bayes</td>\n",
       "      <td>sklearn.naive_bayes.GaussianNB</td>\n",
       "      <td>True</td>\n",
       "    </tr>\n",
       "    <tr>\n",
       "      <th>dt</th>\n",
       "      <td>Decision Tree Classifier</td>\n",
       "      <td>sklearn.tree._classes.DecisionTreeClassifier</td>\n",
       "      <td>True</td>\n",
       "    </tr>\n",
       "    <tr>\n",
       "      <th>svm</th>\n",
       "      <td>SVM - Linear Kernel</td>\n",
       "      <td>sklearn.linear_model._stochastic_gradient.SGDC...</td>\n",
       "      <td>True</td>\n",
       "    </tr>\n",
       "    <tr>\n",
       "      <th>rbfsvm</th>\n",
       "      <td>SVM - Radial Kernel</td>\n",
       "      <td>sklearn.svm._classes.SVC</td>\n",
       "      <td>False</td>\n",
       "    </tr>\n",
       "    <tr>\n",
       "      <th>gpc</th>\n",
       "      <td>Gaussian Process Classifier</td>\n",
       "      <td>sklearn.gaussian_process._gpc.GaussianProcessC...</td>\n",
       "      <td>False</td>\n",
       "    </tr>\n",
       "    <tr>\n",
       "      <th>mlp</th>\n",
       "      <td>MLP Classifier</td>\n",
       "      <td>sklearn.neural_network._multilayer_perceptron....</td>\n",
       "      <td>False</td>\n",
       "    </tr>\n",
       "    <tr>\n",
       "      <th>ridge</th>\n",
       "      <td>Ridge Classifier</td>\n",
       "      <td>sklearn.linear_model._ridge.RidgeClassifier</td>\n",
       "      <td>True</td>\n",
       "    </tr>\n",
       "    <tr>\n",
       "      <th>rf</th>\n",
       "      <td>Random Forest Classifier</td>\n",
       "      <td>sklearn.ensemble._forest.RandomForestClassifier</td>\n",
       "      <td>True</td>\n",
       "    </tr>\n",
       "    <tr>\n",
       "      <th>qda</th>\n",
       "      <td>Quadratic Discriminant Analysis</td>\n",
       "      <td>sklearn.discriminant_analysis.QuadraticDiscrim...</td>\n",
       "      <td>True</td>\n",
       "    </tr>\n",
       "    <tr>\n",
       "      <th>ada</th>\n",
       "      <td>Ada Boost Classifier</td>\n",
       "      <td>sklearn.ensemble._weight_boosting.AdaBoostClas...</td>\n",
       "      <td>True</td>\n",
       "    </tr>\n",
       "    <tr>\n",
       "      <th>gbc</th>\n",
       "      <td>Gradient Boosting Classifier</td>\n",
       "      <td>sklearn.ensemble._gb.GradientBoostingClassifier</td>\n",
       "      <td>True</td>\n",
       "    </tr>\n",
       "    <tr>\n",
       "      <th>lda</th>\n",
       "      <td>Linear Discriminant Analysis</td>\n",
       "      <td>sklearn.discriminant_analysis.LinearDiscrimina...</td>\n",
       "      <td>True</td>\n",
       "    </tr>\n",
       "    <tr>\n",
       "      <th>et</th>\n",
       "      <td>Extra Trees Classifier</td>\n",
       "      <td>sklearn.ensemble._forest.ExtraTreesClassifier</td>\n",
       "      <td>True</td>\n",
       "    </tr>\n",
       "    <tr>\n",
       "      <th>xgboost</th>\n",
       "      <td>Extreme Gradient Boosting</td>\n",
       "      <td>xgboost.sklearn.XGBClassifier</td>\n",
       "      <td>True</td>\n",
       "    </tr>\n",
       "    <tr>\n",
       "      <th>lightgbm</th>\n",
       "      <td>Light Gradient Boosting Machine</td>\n",
       "      <td>lightgbm.sklearn.LGBMClassifier</td>\n",
       "      <td>True</td>\n",
       "    </tr>\n",
       "    <tr>\n",
       "      <th>catboost</th>\n",
       "      <td>CatBoost Classifier</td>\n",
       "      <td>catboost.core.CatBoostClassifier</td>\n",
       "      <td>True</td>\n",
       "    </tr>\n",
       "    <tr>\n",
       "      <th>dummy</th>\n",
       "      <td>Dummy Classifier</td>\n",
       "      <td>sklearn.dummy.DummyClassifier</td>\n",
       "      <td>True</td>\n",
       "    </tr>\n",
       "  </tbody>\n",
       "</table>\n",
       "</div>"
      ],
      "text/plain": [
       "                                     Name  \\\n",
       "ID                                          \n",
       "lr                    Logistic Regression   \n",
       "knn                K Neighbors Classifier   \n",
       "nb                            Naive Bayes   \n",
       "dt               Decision Tree Classifier   \n",
       "svm                   SVM - Linear Kernel   \n",
       "rbfsvm                SVM - Radial Kernel   \n",
       "gpc           Gaussian Process Classifier   \n",
       "mlp                        MLP Classifier   \n",
       "ridge                    Ridge Classifier   \n",
       "rf               Random Forest Classifier   \n",
       "qda       Quadratic Discriminant Analysis   \n",
       "ada                  Ada Boost Classifier   \n",
       "gbc          Gradient Boosting Classifier   \n",
       "lda          Linear Discriminant Analysis   \n",
       "et                 Extra Trees Classifier   \n",
       "xgboost         Extreme Gradient Boosting   \n",
       "lightgbm  Light Gradient Boosting Machine   \n",
       "catboost              CatBoost Classifier   \n",
       "dummy                    Dummy Classifier   \n",
       "\n",
       "                                                  Reference  Turbo  \n",
       "ID                                                                  \n",
       "lr        sklearn.linear_model._logistic.LogisticRegression   True  \n",
       "knn       sklearn.neighbors._classification.KNeighborsCl...   True  \n",
       "nb                           sklearn.naive_bayes.GaussianNB   True  \n",
       "dt             sklearn.tree._classes.DecisionTreeClassifier   True  \n",
       "svm       sklearn.linear_model._stochastic_gradient.SGDC...   True  \n",
       "rbfsvm                             sklearn.svm._classes.SVC  False  \n",
       "gpc       sklearn.gaussian_process._gpc.GaussianProcessC...  False  \n",
       "mlp       sklearn.neural_network._multilayer_perceptron....  False  \n",
       "ridge           sklearn.linear_model._ridge.RidgeClassifier   True  \n",
       "rf          sklearn.ensemble._forest.RandomForestClassifier   True  \n",
       "qda       sklearn.discriminant_analysis.QuadraticDiscrim...   True  \n",
       "ada       sklearn.ensemble._weight_boosting.AdaBoostClas...   True  \n",
       "gbc         sklearn.ensemble._gb.GradientBoostingClassifier   True  \n",
       "lda       sklearn.discriminant_analysis.LinearDiscrimina...   True  \n",
       "et            sklearn.ensemble._forest.ExtraTreesClassifier   True  \n",
       "xgboost                       xgboost.sklearn.XGBClassifier   True  \n",
       "lightgbm                    lightgbm.sklearn.LGBMClassifier   True  \n",
       "catboost                   catboost.core.CatBoostClassifier   True  \n",
       "dummy                         sklearn.dummy.DummyClassifier   True  "
      ]
     },
     "execution_count": 40,
     "metadata": {},
     "output_type": "execute_result"
    }
   ],
   "source": [
    "s.models()"
   ]
  },
  {
   "cell_type": "code",
   "execution_count": 42,
   "metadata": {},
   "outputs": [],
   "source": [
    "best = s.compare_models(include=['knn', 'xgboost', 'catboost', 'lightgbm', 'dummy'])"
   ]
  },
  {
   "cell_type": "code",
   "execution_count": 43,
   "metadata": {},
   "outputs": [
    {
     "data": {
      "application/vnd.jupyter.widget-view+json": {
       "model_id": "ac60bdd728e44539aa275a9acbde5359",
       "version_major": 2,
       "version_minor": 0
      },
      "text/plain": [
       "interactive(children=(ToggleButtons(description='Plot Type:', icons=('',), options=(('Pipeline Plot', 'pipelin…"
      ]
     },
     "metadata": {},
     "output_type": "display_data"
    }
   ],
   "source": [
    "s.evaluate_model(best)"
   ]
  },
  {
   "cell_type": "code",
   "execution_count": 44,
   "metadata": {},
   "outputs": [
    {
     "data": {
      "text/html": [],
      "text/plain": [
       "<IPython.core.display.HTML object>"
      ]
     },
     "metadata": {},
     "output_type": "display_data"
    },
    {
     "data": {
      "image/png": "[encoded data removed]",
      "text/plain": [
       "<Figure size 800x550 with 1 Axes>"
      ]
     },
     "metadata": {},
     "output_type": "display_data"
    }
   ],
   "source": [
    "s.plot_model(best, plot = 'confusion_matrix')"
   ]
  },
  {
   "cell_type": "code",
   "execution_count": 45,
   "metadata": {},
   "outputs": [
    {
     "data": {
      "text/html": [
       "<div>\n",
       "<style scoped>\n",
       "    .dataframe tbody tr th:only-of-type {\n",
       "        vertical-align: middle;\n",
       "    }\n",
       "\n",
       "    .dataframe tbody tr th {\n",
       "        vertical-align: top;\n",
       "    }\n",
       "\n",
       "    .dataframe thead th {\n",
       "        text-align: right;\n",
       "    }\n",
       "</style>\n",
       "<table border=\"1\" class=\"dataframe\">\n",
       "  <thead>\n",
       "    <tr style=\"text-align: right;\">\n",
       "      <th></th>\n",
       "      <th>Model</th>\n",
       "      <th>Accuracy</th>\n",
       "      <th>AUC</th>\n",
       "      <th>Recall</th>\n",
       "      <th>Prec.</th>\n",
       "      <th>F1</th>\n",
       "      <th>Kappa</th>\n",
       "      <th>MCC</th>\n",
       "      <th>TT (Sec)</th>\n",
       "    </tr>\n",
       "  </thead>\n",
       "  <tbody>\n",
       "    <tr>\n",
       "      <th>knn</th>\n",
       "      <td>K Neighbors Classifier</td>\n",
       "      <td>0.9510</td>\n",
       "      <td>0.9902</td>\n",
       "      <td>0.9763</td>\n",
       "      <td>0.8396</td>\n",
       "      <td>0.9028</td>\n",
       "      <td>0.8703</td>\n",
       "      <td>0.8748</td>\n",
       "      <td>5.129</td>\n",
       "    </tr>\n",
       "    <tr>\n",
       "      <th>catboost</th>\n",
       "      <td>CatBoost Classifier</td>\n",
       "      <td>0.9417</td>\n",
       "      <td>0.9815</td>\n",
       "      <td>0.8694</td>\n",
       "      <td>0.8789</td>\n",
       "      <td>0.8741</td>\n",
       "      <td>0.8362</td>\n",
       "      <td>0.8362</td>\n",
       "      <td>13.132</td>\n",
       "    </tr>\n",
       "    <tr>\n",
       "      <th>xgboost</th>\n",
       "      <td>Extreme Gradient Boosting</td>\n",
       "      <td>0.9241</td>\n",
       "      <td>0.9738</td>\n",
       "      <td>0.8381</td>\n",
       "      <td>0.8363</td>\n",
       "      <td>0.8372</td>\n",
       "      <td>0.7877</td>\n",
       "      <td>0.7877</td>\n",
       "      <td>19.351</td>\n",
       "    </tr>\n",
       "    <tr>\n",
       "      <th>lightgbm</th>\n",
       "      <td>Light Gradient Boosting Machine</td>\n",
       "      <td>0.8990</td>\n",
       "      <td>0.9576</td>\n",
       "      <td>0.8072</td>\n",
       "      <td>0.7700</td>\n",
       "      <td>0.7881</td>\n",
       "      <td>0.7218</td>\n",
       "      <td>0.7222</td>\n",
       "      <td>1.645</td>\n",
       "    </tr>\n",
       "    <tr>\n",
       "      <th>dummy</th>\n",
       "      <td>Dummy Classifier</td>\n",
       "      <td>0.7672</td>\n",
       "      <td>0.5000</td>\n",
       "      <td>0.0000</td>\n",
       "      <td>0.0000</td>\n",
       "      <td>0.0000</td>\n",
       "      <td>0.0000</td>\n",
       "      <td>0.0000</td>\n",
       "      <td>0.324</td>\n",
       "    </tr>\n",
       "  </tbody>\n",
       "</table>\n",
       "</div>"
      ],
      "text/plain": [
       "                                    Model  Accuracy     AUC  Recall   Prec.  \\\n",
       "knn                K Neighbors Classifier    0.9510  0.9902  0.9763  0.8396   \n",
       "catboost              CatBoost Classifier    0.9417  0.9815  0.8694  0.8789   \n",
       "xgboost         Extreme Gradient Boosting    0.9241  0.9738  0.8381  0.8363   \n",
       "lightgbm  Light Gradient Boosting Machine    0.8990  0.9576  0.8072  0.7700   \n",
       "dummy                    Dummy Classifier    0.7672  0.5000  0.0000  0.0000   \n",
       "\n",
       "              F1   Kappa     MCC  TT (Sec)  \n",
       "knn       0.9028  0.8703  0.8748     5.129  \n",
       "catboost  0.8741  0.8362  0.8362    13.132  \n",
       "xgboost   0.8372  0.7877  0.7877    19.351  \n",
       "lightgbm  0.7881  0.7218  0.7222     1.645  \n",
       "dummy     0.0000  0.0000  0.0000     0.324  "
      ]
     },
     "execution_count": 45,
     "metadata": {},
     "output_type": "execute_result"
    }
   ],
   "source": [
    "pd.DataFrame(s.pull()).sort_values('F1', ascending=False)"
   ]
  },
  {
   "cell_type": "code",
   "execution_count": 46,
   "metadata": {},
   "outputs": [
    {
     "data": {
      "text/html": [
       "<style type=\"text/css\">\n",
       "</style>\n",
       "<table id=\"T_c565d\">\n",
       "  <thead>\n",
       "    <tr>\n",
       "      <th class=\"blank level0\" >&nbsp;</th>\n",
       "      <th id=\"T_c565d_level0_col0\" class=\"col_heading level0 col0\" >Model</th>\n",
       "      <th id=\"T_c565d_level0_col1\" class=\"col_heading level0 col1\" >Accuracy</th>\n",
       "      <th id=\"T_c565d_level0_col2\" class=\"col_heading level0 col2\" >AUC</th>\n",
       "      <th id=\"T_c565d_level0_col3\" class=\"col_heading level0 col3\" >Recall</th>\n",
       "      <th id=\"T_c565d_level0_col4\" class=\"col_heading level0 col4\" >Prec.</th>\n",
       "      <th id=\"T_c565d_level0_col5\" class=\"col_heading level0 col5\" >F1</th>\n",
       "      <th id=\"T_c565d_level0_col6\" class=\"col_heading level0 col6\" >Kappa</th>\n",
       "      <th id=\"T_c565d_level0_col7\" class=\"col_heading level0 col7\" >MCC</th>\n",
       "    </tr>\n",
       "  </thead>\n",
       "  <tbody>\n",
       "    <tr>\n",
       "      <th id=\"T_c565d_level0_row0\" class=\"row_heading level0 row0\" >0</th>\n",
       "      <td id=\"T_c565d_row0_col0\" class=\"data row0 col0\" >K Neighbors Classifier</td>\n",
       "      <td id=\"T_c565d_row0_col1\" class=\"data row0 col1\" >0.8013</td>\n",
       "      <td id=\"T_c565d_row0_col2\" class=\"data row0 col2\" >0.8546</td>\n",
       "      <td id=\"T_c565d_row0_col3\" class=\"data row0 col3\" >0.7995</td>\n",
       "      <td id=\"T_c565d_row0_col4\" class=\"data row0 col4\" >0.5721</td>\n",
       "      <td id=\"T_c565d_row0_col5\" class=\"data row0 col5\" >0.6669</td>\n",
       "      <td id=\"T_c565d_row0_col6\" class=\"data row0 col6\" >0.5308</td>\n",
       "      <td id=\"T_c565d_row0_col7\" class=\"data row0 col7\" >0.5459</td>\n",
       "    </tr>\n",
       "  </tbody>\n",
       "</table>\n"
      ],
      "text/plain": [
       "<pandas.io.formats.style.Styler at 0x35516f2e0>"
      ]
     },
     "metadata": {},
     "output_type": "display_data"
    }
   ],
   "source": [
    "# Resutls on the test set based on the best model\n",
    "predictions_test = s.predict_model(best, data=test_rndm_sample)"
   ]
  },
  {
   "attachments": {},
   "cell_type": "markdown",
   "metadata": {},
   "source": [
    "### LSTM model"
   ]
  },
  {
   "cell_type": "code",
   "execution_count": 14,
   "metadata": {},
   "outputs": [],
   "source": [
    "import pandas as pd\n",
    "import numpy as np\n",
    "from tqdm import tqdm\n",
    "import torch\n",
    "from torch.utils.data import DataLoader\n",
    "from torch.utils.data import TensorDataset\n",
    "\n",
    "from sklearn.preprocessing import OneHotEncoder\n",
    "from sklearn.compose import ColumnTransformer\n",
    "from sklearn.model_selection import train_test_split\n",
    "from sklearn.preprocessing import MinMaxScaler\n",
    "from keras.models import Sequential\n",
    "from keras.layers import Dense, LSTM\n",
    "from keras.optimizers import Adam\n",
    "from keras.metrics import AUC\n"
   ]
  },
  {
   "cell_type": "code",
   "execution_count": 21,
   "metadata": {},
   "outputs": [],
   "source": [
    "# Sort the data by customer and then by month\n",
    "df = train_rndm_sample.copy()\n",
    "df = df.groupby(\"customer_ID\").filter(lambda x: len(x) <= 13)\n",
    "\n",
    "\n",
    "# Sort the data by customer and then by date\n",
    "\n",
    "\n",
    "df[\"date\"] = pd.to_datetime(df[\"S_2\"])\n",
    "df.drop([\"S_2\", \"Month\", \"Day\", \"Year\"], axis=1, inplace=True)\n",
    "df.sort_values([\"customer_ID\", \"date\"], inplace=True)\n",
    "categorical_columns = df.select_dtypes(include=[\"category\"]).columns\n",
    "categorical_columns\n",
    "df = pd.get_dummies(df, columns=categorical_columns)\n"
   ]
  },
  {
   "cell_type": "code",
   "execution_count": 22,
   "metadata": {},
   "outputs": [
    {
     "name": "stdout",
     "output_type": "stream",
     "text": [
      "customer_ID       0\n",
      "P_2            1741\n",
      "D_39              0\n",
      "B_1               0\n",
      "B_2              53\n",
      "               ... \n",
      "D_120_0.0         0\n",
      "D_120_1.0         0\n",
      "D_126_-1.0        0\n",
      "D_126_0.0         0\n",
      "D_126_1.0         0\n",
      "Length: 226, dtype: int64\n",
      "customer_ID    0\n",
      "P_2            0\n",
      "D_39           0\n",
      "B_1            0\n",
      "B_2            0\n",
      "              ..\n",
      "D_120_0.0      0\n",
      "D_120_1.0      0\n",
      "D_126_-1.0     0\n",
      "D_126_0.0      0\n",
      "D_126_1.0      0\n",
      "Length: 226, dtype: int64\n"
     ]
    }
   ],
   "source": [
    "print(df.isna().sum())  # Summarize the count of NaNs by column\n",
    "print(df.isin([np.inf, -np.inf]).sum())  # Summarize the count of infinite values by column\n"
   ]
  },
  {
   "cell_type": "code",
   "execution_count": 23,
   "metadata": {},
   "outputs": [],
   "source": [
    "df.fillna(df.median(), inplace=True)  # Replace NaNs with the median value of each column\n",
    "df.replace([np.inf, -np.inf], np.finfo(np.float32).max, inplace=True)  # Replace infinite values with the max float32 value\n"
   ]
  },
  {
   "cell_type": "code",
   "execution_count": 24,
   "metadata": {},
   "outputs": [
    {
     "data": {
      "text/plain": [
       "customer_ID     object\n",
       "P_2            float16\n",
       "D_39           float16\n",
       "B_1            float16\n",
       "B_2            float16\n",
       "                ...   \n",
       "D_120_0.0        uint8\n",
       "D_120_1.0        uint8\n",
       "D_126_-1.0       uint8\n",
       "D_126_0.0        uint8\n",
       "D_126_1.0        uint8\n",
       "Length: 226, dtype: object"
      ]
     },
     "execution_count": 24,
     "metadata": {},
     "output_type": "execute_result"
    }
   ],
   "source": [
    "df.dtypes"
   ]
  },
  {
   "cell_type": "code",
   "execution_count": 25,
   "metadata": {},
   "outputs": [],
   "source": [
    "from sklearn.preprocessing import StandardScaler\n",
    "\n",
    "# Assume df is your original dataframe\n",
    "\n",
    "# features = df.drop('customer_ID', axis=1)  # drop the customer_ID column\n",
    "float16_columns = df.select_dtypes(include=['float16']).columns\n",
    "\n",
    "scaler = StandardScaler()\n",
    "df[float16_columns] = scaler.fit_transform(df[float16_columns])\n",
    "\n",
    "# If you need to keep the customer_ID in the dataframe for later use, you can add it back\n",
    "\n",
    "\n"
   ]
  },
  {
   "cell_type": "code",
   "execution_count": 26,
   "metadata": {},
   "outputs": [
    {
     "data": {
      "text/plain": [
       "223"
      ]
     },
     "execution_count": 26,
     "metadata": {},
     "output_type": "execute_result"
    }
   ],
   "source": [
    "len([x for x in df.columns if x not in ['customer_ID', 'target', 'date']])"
   ]
  },
  {
   "cell_type": "code",
   "execution_count": 27,
   "metadata": {},
   "outputs": [],
   "source": [
    "def get_max_len_and_index_map(df):\n",
    "    unique_customers = df['customer_ID'].unique()\n",
    "    customer_index_map = {customer: idx for idx, customer in enumerate(unique_customers)}\n",
    "    max_len = 0\n",
    "\n",
    "    for customer in tqdm(unique_customers, desc='Getting max length', total=len(unique_customers)):\n",
    "        customer_data = df[df['customer_ID'] == customer]\n",
    "        max_len = max(max_len, len(customer_data))\n",
    "\n",
    "    return max_len, customer_index_map"
   ]
  },
  {
   "cell_type": "code",
   "execution_count": 28,
   "metadata": {},
   "outputs": [],
   "source": [
    "def reshape_data(df, max_len, customer_index_map):\n",
    "    num_customers = len(customer_index_map)\n",
    "    num_features = df.drop(['customer_ID', 'date', 'target'], axis=1).shape[1]\n",
    "    X = np.zeros((num_customers, max_len - 12, 12, num_features))\n",
    "    y = np.zeros((num_customers, max_len - 12))\n",
    "    mask = np.zeros((num_customers, max_len - 12), dtype=bool)\n",
    "\n",
    "    df['customer_index'] = df['customer_ID'].map(customer_index_map)\n",
    "    customer_data = df.groupby('customer_index').apply(\n",
    "        lambda x: x.drop(['customer_ID', 'date', 'target'], axis=1).values\n",
    "    )\n",
    "\n",
    "    for idx, data in customer_data.items():\n",
    "        num_rows = data.shape[0] - 12 if data.shape[0] > 12 else 0\n",
    "        if num_rows > 0:\n",
    "            X[idx, :num_rows] = np.stack([data[i:i+12] for i in range(num_rows)], axis=0)\n",
    "            y[idx, :num_rows] = df.loc[df['customer_index'] == idx, 'target'].values[12:]\n",
    "            mask[idx, :num_rows] = True\n",
    "        elif data.shape[0] > 0:  # handle the case where a customer has less than 12 months of data\n",
    "            X[idx, 0, :data.shape[0]] = data\n",
    "            mask[idx, 0] = True\n",
    "\n",
    "    return X.reshape(-1, 12, num_features), y.reshape(-1), mask.reshape(-1)\n"
   ]
  },
  {
   "cell_type": "code",
   "execution_count": 29,
   "metadata": {},
   "outputs": [
    {
     "name": "stderr",
     "output_type": "stream",
     "text": [
      "Getting max length: 100%|██████████| 19596/19596 [02:15<00:00, 144.95it/s]\n"
     ]
    }
   ],
   "source": [
    "max_len, customer_index_map = get_max_len_and_index_map(df)\n"
   ]
  },
  {
   "cell_type": "code",
   "execution_count": 31,
   "metadata": {},
   "outputs": [],
   "source": [
    "X, y, mask = reshape_data(df, max_len, customer_index_map)"
   ]
  },
  {
   "cell_type": "code",
   "execution_count": 32,
   "metadata": {},
   "outputs": [
    {
     "data": {
      "text/plain": [
       "(19596, 12, 224)"
      ]
     },
     "execution_count": 32,
     "metadata": {},
     "output_type": "execute_result"
    }
   ],
   "source": [
    "X.shape"
   ]
  },
  {
   "cell_type": "code",
   "execution_count": 33,
   "metadata": {},
   "outputs": [],
   "source": [
    "# Normalizing the features\n",
    "scaler = MinMaxScaler()\n",
    "X = scaler.fit_transform(X.reshape(-1, X.shape[-1])).reshape(X.shape)\n",
    "\n",
    "# Convert to PyTorch tensors\n",
    "X = torch.tensor(X, dtype=torch.float32)\n",
    "y = torch.tensor(y, dtype=torch.float32)\n",
    "mask_torch = torch.tensor(mask, dtype=torch.bool)\n",
    "\n",
    "# Train-test split\n",
    "X_train, X_test, y_train, y_test, mask_train, mask_test = train_test_split(X, y, mask_torch, test_size=0.2, random_state=42)\n",
    "\n",
    "# Create DataLoaders\n",
    "train_dataset = torch.utils.data.TensorDataset(X_train, y_train, mask_train)\n",
    "test_dataset = torch.utils.data.TensorDataset(X_test, y_test, mask_test)\n",
    "\n",
    "train_loader = DataLoader(train_dataset, batch_size=32)\n",
    "test_loader = DataLoader(test_dataset, batch_size=32)"
   ]
  },
  {
   "cell_type": "code",
   "execution_count": 34,
   "metadata": {},
   "outputs": [
    {
     "data": {
      "text/plain": [
       "torch.Size([19596])"
      ]
     },
     "execution_count": 34,
     "metadata": {},
     "output_type": "execute_result"
    }
   ],
   "source": [
    "mask_torch.shape"
   ]
  },
  {
   "cell_type": "code",
   "execution_count": 35,
   "metadata": {},
   "outputs": [],
   "source": [
    "import torch.nn as nn\n",
    "\n",
    "class CreditDefaultNet(nn.Module):\n",
    "    def __init__(self, input_size, hidden_size, num_layers, output_size):\n",
    "        super(CreditDefaultNet, self).__init__()\n",
    "        self.hidden_size = hidden_size\n",
    "        self.num_layers = num_layers\n",
    "        self.lstm = nn.LSTM(input_size, hidden_size, num_layers, batch_first=True)\n",
    "        self.fc = nn.Linear(hidden_size, output_size)\n",
    "        \n",
    "    def forward(self, x):\n",
    "        # Set initial hidden and cell states \n",
    "        h0 = torch.zeros(self.num_layers, x.size(0), self.hidden_size).to(device) \n",
    "        c0 = torch.zeros(self.num_layers, x.size(0), self.hidden_size).to(device)\n",
    "        \n",
    "        # Forward propagate LSTM\n",
    "        out, _ = self.lstm(x, (h0, c0))  # out: tensor of shape (batch_size, seq_length, hidden_size)\n",
    "        \n",
    "        # Decode the hidden state of the last time step\n",
    "        out = self.fc(out[:, -1, :])\n",
    "\n",
    "        # Add an extra dimension to the end of the tensor\n",
    "        out = out.unsqueeze(-1)\n",
    "\n",
    "        return out\n"
   ]
  },
  {
   "cell_type": "code",
   "execution_count": 42,
   "metadata": {},
   "outputs": [
    {
     "name": "stdout",
     "output_type": "stream",
     "text": [
      "Epoch [1/100], Step [200/490], Loss: 0.3195\n",
      "Epoch [1/100], Step [400/490], Loss: 0.2044\n",
      "Epoch [2/100], Step [200/490], Loss: 0.2496\n",
      "Epoch [2/100], Step [400/490], Loss: 0.1944\n",
      "Epoch [3/100], Step [200/490], Loss: 0.2347\n",
      "Epoch [3/100], Step [400/490], Loss: 0.1926\n",
      "Epoch [4/100], Step [200/490], Loss: 0.2287\n",
      "Epoch [4/100], Step [400/490], Loss: 0.1909\n",
      "Epoch [5/100], Step [200/490], Loss: 0.2286\n",
      "Epoch [5/100], Step [400/490], Loss: 0.1859\n",
      "Epoch [6/100], Step [200/490], Loss: 0.2295\n",
      "Epoch [6/100], Step [400/490], Loss: 0.1793\n",
      "Epoch [7/100], Step [200/490], Loss: 0.2290\n",
      "Epoch [7/100], Step [400/490], Loss: 0.1716\n",
      "Epoch [8/100], Step [200/490], Loss: 0.2276\n",
      "Epoch [8/100], Step [400/490], Loss: 0.1635\n",
      "Epoch [9/100], Step [200/490], Loss: 0.2268\n",
      "Epoch [9/100], Step [400/490], Loss: 0.1557\n",
      "Epoch [10/100], Step [200/490], Loss: 0.2268\n",
      "Epoch [10/100], Step [400/490], Loss: 0.1486\n",
      "Epoch [11/100], Step [200/490], Loss: 0.2276\n",
      "Epoch [11/100], Step [400/490], Loss: 0.1423\n",
      "Epoch [12/100], Step [200/490], Loss: 0.2287\n",
      "Epoch [12/100], Step [400/490], Loss: 0.1370\n",
      "Epoch [13/100], Step [200/490], Loss: 0.2298\n",
      "Epoch [13/100], Step [400/490], Loss: 0.1324\n",
      "Epoch [14/100], Step [200/490], Loss: 0.2305\n",
      "Epoch [14/100], Step [400/490], Loss: 0.1285\n",
      "Epoch [15/100], Step [200/490], Loss: 0.2310\n",
      "Epoch [15/100], Step [400/490], Loss: 0.1251\n",
      "Epoch [16/100], Step [200/490], Loss: 0.2313\n",
      "Epoch [16/100], Step [400/490], Loss: 0.1224\n",
      "Epoch [17/100], Step [200/490], Loss: 0.2318\n",
      "Epoch [17/100], Step [400/490], Loss: 0.1204\n",
      "Epoch [18/100], Step [200/490], Loss: 0.2326\n",
      "Epoch [18/100], Step [400/490], Loss: 0.1190\n",
      "Epoch [19/100], Step [200/490], Loss: 0.2337\n",
      "Epoch [19/100], Step [400/490], Loss: 0.1184\n",
      "Epoch [20/100], Step [200/490], Loss: 0.2349\n",
      "Epoch [20/100], Step [400/490], Loss: 0.1185\n",
      "Epoch [21/100], Step [200/490], Loss: 0.2363\n",
      "Epoch [21/100], Step [400/490], Loss: 0.1195\n",
      "Epoch [22/100], Step [200/490], Loss: 0.2375\n",
      "Epoch [22/100], Step [400/490], Loss: 0.1216\n",
      "Epoch [23/100], Step [200/490], Loss: 0.2384\n",
      "Epoch [23/100], Step [400/490], Loss: 0.1246\n",
      "Epoch [24/100], Step [200/490], Loss: 0.2388\n",
      "Epoch [24/100], Step [400/490], Loss: 0.1281\n",
      "Epoch [25/100], Step [200/490], Loss: 0.2384\n",
      "Epoch [25/100], Step [400/490], Loss: 0.1313\n",
      "Epoch [26/100], Step [200/490], Loss: 0.2368\n",
      "Epoch [26/100], Step [400/490], Loss: 0.1338\n",
      "Epoch [27/100], Step [200/490], Loss: 0.2336\n",
      "Epoch [27/100], Step [400/490], Loss: 0.1352\n",
      "Epoch [28/100], Step [200/490], Loss: 0.2277\n",
      "Epoch [28/100], Step [400/490], Loss: 0.1355\n",
      "Epoch [29/100], Step [200/490], Loss: 0.2185\n",
      "Epoch [29/100], Step [400/490], Loss: 0.1351\n",
      "Epoch [30/100], Step [200/490], Loss: 0.2058\n",
      "Epoch [30/100], Step [400/490], Loss: 0.1336\n",
      "Epoch [31/100], Step [200/490], Loss: 0.1899\n",
      "Epoch [31/100], Step [400/490], Loss: 0.1307\n",
      "Epoch [32/100], Step [200/490], Loss: 0.1723\n",
      "Epoch [32/100], Step [400/490], Loss: 0.1265\n",
      "Epoch [33/100], Step [200/490], Loss: 0.1551\n",
      "Epoch [33/100], Step [400/490], Loss: 0.1212\n",
      "Epoch [34/100], Step [200/490], Loss: 0.1404\n",
      "Epoch [34/100], Step [400/490], Loss: 0.1145\n",
      "Epoch [35/100], Step [200/490], Loss: 0.1297\n",
      "Epoch [35/100], Step [400/490], Loss: 0.1060\n",
      "Epoch [36/100], Step [200/490], Loss: 0.1224\n",
      "Epoch [36/100], Step [400/490], Loss: 0.0957\n",
      "Epoch [37/100], Step [200/490], Loss: 0.1172\n",
      "Epoch [37/100], Step [400/490], Loss: 0.0845\n",
      "Epoch [38/100], Step [200/490], Loss: 0.1127\n",
      "Epoch [38/100], Step [400/490], Loss: 0.0735\n",
      "Epoch [39/100], Step [200/490], Loss: 0.1089\n",
      "Epoch [39/100], Step [400/490], Loss: 0.0636\n",
      "Epoch [40/100], Step [200/490], Loss: 0.1042\n",
      "Epoch [40/100], Step [400/490], Loss: 0.0559\n",
      "Epoch [41/100], Step [200/490], Loss: 0.0977\n",
      "Epoch [41/100], Step [400/490], Loss: 0.0505\n",
      "Epoch [42/100], Step [200/490], Loss: 0.0894\n",
      "Epoch [42/100], Step [400/490], Loss: 0.0465\n",
      "Epoch [43/100], Step [200/490], Loss: 0.0797\n",
      "Epoch [43/100], Step [400/490], Loss: 0.0443\n",
      "Epoch [44/100], Step [200/490], Loss: 0.0740\n",
      "Epoch [44/100], Step [400/490], Loss: 0.0424\n",
      "Epoch [45/100], Step [200/490], Loss: 0.0699\n",
      "Epoch [45/100], Step [400/490], Loss: 0.0379\n",
      "Epoch [46/100], Step [200/490], Loss: 0.0616\n",
      "Epoch [46/100], Step [400/490], Loss: 0.0361\n",
      "Epoch [47/100], Step [200/490], Loss: 0.0514\n",
      "Epoch [47/100], Step [400/490], Loss: 0.0417\n",
      "Epoch [48/100], Step [200/490], Loss: 0.0411\n",
      "Epoch [48/100], Step [400/490], Loss: 0.0300\n",
      "Epoch [49/100], Step [200/490], Loss: 0.0380\n",
      "Epoch [49/100], Step [400/490], Loss: 0.0465\n",
      "Epoch [50/100], Step [200/490], Loss: 0.0543\n",
      "Epoch [50/100], Step [400/490], Loss: 0.0482\n",
      "Epoch [51/100], Step [200/490], Loss: 0.0633\n",
      "Epoch [51/100], Step [400/490], Loss: 0.0332\n",
      "Epoch [52/100], Step [200/490], Loss: 0.0432\n",
      "Epoch [52/100], Step [400/490], Loss: 0.0677\n",
      "Epoch [53/100], Step [200/490], Loss: 0.0428\n",
      "Epoch [53/100], Step [400/490], Loss: 0.0186\n",
      "Epoch [54/100], Step [200/490], Loss: 0.1487\n",
      "Epoch [54/100], Step [400/490], Loss: 0.0163\n",
      "Epoch [55/100], Step [200/490], Loss: 0.0413\n",
      "Epoch [55/100], Step [400/490], Loss: 0.0220\n",
      "Epoch [56/100], Step [200/490], Loss: 0.0492\n",
      "Epoch [56/100], Step [400/490], Loss: 0.0200\n",
      "Epoch [57/100], Step [200/490], Loss: 0.0318\n",
      "Epoch [57/100], Step [400/490], Loss: 0.0163\n",
      "Epoch [58/100], Step [200/490], Loss: 0.0307\n",
      "Epoch [58/100], Step [400/490], Loss: 0.0221\n",
      "Epoch [59/100], Step [200/490], Loss: 0.0590\n",
      "Epoch [59/100], Step [400/490], Loss: 0.0223\n",
      "Epoch [60/100], Step [200/490], Loss: 0.0339\n",
      "Epoch [60/100], Step [400/490], Loss: 0.0106\n",
      "Epoch [61/100], Step [200/490], Loss: 0.0203\n",
      "Epoch [61/100], Step [400/490], Loss: 0.0241\n",
      "Epoch [62/100], Step [200/490], Loss: 0.0164\n",
      "Epoch [62/100], Step [400/490], Loss: 0.0074\n",
      "Epoch [63/100], Step [200/490], Loss: 0.0159\n",
      "Epoch [63/100], Step [400/490], Loss: 0.0252\n",
      "Epoch [64/100], Step [200/490], Loss: 0.0087\n",
      "Epoch [64/100], Step [400/490], Loss: 0.0391\n",
      "Epoch [65/100], Step [200/490], Loss: 0.0197\n",
      "Epoch [65/100], Step [400/490], Loss: 0.0089\n",
      "Epoch [66/100], Step [200/490], Loss: 0.0125\n",
      "Epoch [66/100], Step [400/490], Loss: 0.0235\n",
      "Epoch [67/100], Step [200/490], Loss: 0.0285\n",
      "Epoch [67/100], Step [400/490], Loss: 0.0208\n",
      "Epoch [68/100], Step [200/490], Loss: 0.0197\n",
      "Epoch [68/100], Step [400/490], Loss: 0.1445\n",
      "Epoch [69/100], Step [200/490], Loss: 0.0173\n",
      "Epoch [69/100], Step [400/490], Loss: 0.0335\n",
      "Epoch [70/100], Step [200/490], Loss: 0.0141\n",
      "Epoch [70/100], Step [400/490], Loss: 0.0157\n",
      "Epoch [71/100], Step [200/490], Loss: 0.0556\n",
      "Epoch [71/100], Step [400/490], Loss: 0.0050\n",
      "Epoch [72/100], Step [200/490], Loss: 0.0107\n",
      "Epoch [72/100], Step [400/490], Loss: 0.0142\n",
      "Epoch [73/100], Step [200/490], Loss: 0.0170\n",
      "Epoch [73/100], Step [400/490], Loss: 0.0072\n",
      "Epoch [74/100], Step [200/490], Loss: 0.0200\n",
      "Epoch [74/100], Step [400/490], Loss: 0.1144\n",
      "Epoch [75/100], Step [200/490], Loss: 0.0301\n",
      "Epoch [75/100], Step [400/490], Loss: 0.0665\n",
      "Epoch [76/100], Step [200/490], Loss: 0.0035\n",
      "Epoch [76/100], Step [400/490], Loss: 0.0024\n",
      "Epoch [77/100], Step [200/490], Loss: 0.0060\n",
      "Epoch [77/100], Step [400/490], Loss: 0.0130\n",
      "Epoch [78/100], Step [200/490], Loss: 0.0049\n",
      "Epoch [78/100], Step [400/490], Loss: 0.0021\n",
      "Epoch [79/100], Step [200/490], Loss: 0.0068\n",
      "Epoch [79/100], Step [400/490], Loss: 0.0149\n",
      "Epoch [80/100], Step [200/490], Loss: 0.0344\n",
      "Epoch [80/100], Step [400/490], Loss: 0.0011\n",
      "Epoch [81/100], Step [200/490], Loss: 0.0073\n",
      "Epoch [81/100], Step [400/490], Loss: 0.0110\n",
      "Epoch [82/100], Step [200/490], Loss: 0.0027\n",
      "Epoch [82/100], Step [400/490], Loss: 0.0006\n",
      "Epoch [83/100], Step [200/490], Loss: 0.0026\n",
      "Epoch [83/100], Step [400/490], Loss: 0.0008\n",
      "Epoch [84/100], Step [200/490], Loss: 0.0024\n",
      "Epoch [84/100], Step [400/490], Loss: 0.0019\n",
      "Epoch [85/100], Step [200/490], Loss: 0.0471\n",
      "Epoch [85/100], Step [400/490], Loss: 0.0098\n",
      "Epoch [86/100], Step [200/490], Loss: 0.0195\n",
      "Epoch [86/100], Step [400/490], Loss: 0.0037\n",
      "Epoch [87/100], Step [200/490], Loss: 0.0094\n",
      "Epoch [87/100], Step [400/490], Loss: 0.0007\n",
      "Epoch [88/100], Step [200/490], Loss: 0.0039\n",
      "Epoch [88/100], Step [400/490], Loss: 0.0092\n",
      "Epoch [89/100], Step [200/490], Loss: 0.0032\n",
      "Epoch [89/100], Step [400/490], Loss: 0.0004\n",
      "Epoch [90/100], Step [200/490], Loss: 0.0044\n",
      "Epoch [90/100], Step [400/490], Loss: 0.0014\n",
      "Epoch [91/100], Step [200/490], Loss: 0.0005\n",
      "Epoch [91/100], Step [400/490], Loss: 0.0003\n",
      "Epoch [92/100], Step [200/490], Loss: 0.0044\n",
      "Epoch [92/100], Step [400/490], Loss: 0.0024\n",
      "Epoch [93/100], Step [200/490], Loss: 0.0031\n",
      "Epoch [93/100], Step [400/490], Loss: 0.0056\n",
      "Epoch [94/100], Step [200/490], Loss: 0.0011\n",
      "Epoch [94/100], Step [400/490], Loss: 0.0096\n",
      "Epoch [95/100], Step [200/490], Loss: 0.0030\n",
      "Epoch [95/100], Step [400/490], Loss: 0.0285\n",
      "Epoch [96/100], Step [200/490], Loss: 0.0372\n",
      "Epoch [96/100], Step [400/490], Loss: 0.0022\n",
      "Epoch [97/100], Step [200/490], Loss: 0.0056\n",
      "Epoch [97/100], Step [400/490], Loss: 0.0059\n",
      "Epoch [98/100], Step [200/490], Loss: 0.0006\n",
      "Epoch [98/100], Step [400/490], Loss: 0.0005\n",
      "Epoch [99/100], Step [200/490], Loss: 0.0018\n",
      "Epoch [99/100], Step [400/490], Loss: 0.0007\n",
      "Epoch [100/100], Step [200/490], Loss: 0.0014\n",
      "Epoch [100/100], Step [400/490], Loss: 0.0024\n"
     ]
    }
   ],
   "source": [
    "# Define the model\n",
    "import torch\n",
    "device = torch.device(\"mps\")\n",
    "\n",
    "model = CreditDefaultNet(input_size=224, hidden_size=64, num_layers=2, output_size=1).to(device)\n",
    "\n",
    "# Define the loss function and the optimizer\n",
    "criterion = nn.BCEWithLogitsLoss()\n",
    "optimizer = torch.optim.Adam(model.parameters(), lr=0.0001)\n",
    "\n",
    "# Training loop\n",
    "num_epochs = 100\n",
    "train_losses = []\n",
    "for epoch in range(num_epochs):\n",
    "    for i, (inputs, labels, mask) in enumerate(train_loader):\n",
    "        inputs = inputs.to(device)\n",
    "        labels = labels.to(device)\n",
    "        mask = mask.to(device)\n",
    "\n",
    "        # Forward pass\n",
    "        outputs = model(inputs).squeeze(1)  # outputs shape should be [batch_size] to match mask shape\n",
    "\n",
    "        # print(\"Outputs shape:\", outputs.shape)\n",
    "        # print(\"Labels shape:\", labels.shape)\n",
    "        # print(\"Mask shape:\", mask.shape)\n",
    "\n",
    "        # mask = mask.view(-1)\n",
    "\n",
    "        # Reshape the labels to match the outputs\n",
    "        labels = labels.unsqueeze(1)\n",
    "\n",
    "        loss = criterion(outputs[mask], labels[mask])\n",
    "\n",
    "        # Backward and optimize\n",
    "        optimizer.zero_grad()\n",
    "        loss.backward()\n",
    "        optimizer.step()\n",
    "\n",
    "        # Logging\n",
    "        if (i+1) % 200 == 0:\n",
    "            print (f'Epoch [{epoch+1}/{num_epochs}], Step [{i+1}/{len(train_loader)}], Loss: {loss.item():.4f}')\n",
    "            train_losses.append(loss.item())\n",
    "\n"
   ]
  },
  {
   "cell_type": "code",
   "execution_count": 43,
   "metadata": {},
   "outputs": [
    {
     "data": {
      "image/png": "[encoded data removed]",
      "text/plain": [
       "<Figure size 800x550 with 1 Axes>"
      ]
     },
     "metadata": {},
     "output_type": "display_data"
    }
   ],
   "source": [
    "import matplotlib.pyplot as plt\n",
    "\n",
    "# Plot the training losses\n",
    "plt.plot(train_losses, label='Training loss')\n",
    "plt.title('Losses')\n",
    "plt.xlabel('Step')\n",
    "plt.ylabel('Loss')\n",
    "plt.legend()\n",
    "plt.show()\n"
   ]
  },
  {
   "cell_type": "code",
   "execution_count": 44,
   "metadata": {},
   "outputs": [],
   "source": [
    "torch.save(model, '../models/credit_default_model_05_18_2023.pt')\n"
   ]
  },
  {
   "cell_type": "code",
   "execution_count": 45,
   "metadata": {},
   "outputs": [
    {
     "name": "stdout",
     "output_type": "stream",
     "text": [
      "Test Loss:  0.8837281699951102\n",
      "Test Accuracy:  0.8714285714285714\n"
     ]
    }
   ],
   "source": [
    "test_dataset = TensorDataset(X_test, y_test, mask_test)\n",
    "test_loader = DataLoader(test_dataset, batch_size=32, shuffle=False)\n",
    "\n",
    "model.eval()  # set the model to evaluation mode\n",
    "\n",
    "test_loss = 0\n",
    "correct = 0\n",
    "total = 0\n",
    "\n",
    "with torch.no_grad():\n",
    "    for inputs, labels, mask in test_loader:\n",
    "        inputs = inputs.to(device)\n",
    "        labels = labels.to(device)\n",
    "        mask = mask.to(device)\n",
    "\n",
    "        # Forward pass\n",
    "        # Forward pass\n",
    "        outputs = model(inputs).squeeze()\n",
    "\n",
    "\n",
    "        # Compute test loss\n",
    "        loss = criterion(outputs[mask], labels[mask])\n",
    "        test_loss += loss.item()\n",
    "\n",
    "        # Convert model output probabilities to predicted class (0 or 1)\n",
    "        predicted = torch.round(torch.sigmoid(outputs))  # Sigmoid function to convert output to a probability that sum up to 1\n",
    "        correct += (predicted[mask] == labels[mask]).sum().item()\n",
    "        total += mask.sum().item()\n",
    "\n",
    "# Print test metrics\n",
    "print('Test Loss: ', test_loss / len(test_loader))\n",
    "print('Test Accuracy: ', correct / total)\n"
   ]
  },
  {
   "cell_type": "code",
   "execution_count": null,
   "metadata": {},
   "outputs": [],
   "source": []
  }
 ],
 "metadata": {
  "kernelspec": {
   "display_name": "Python 3",
   "language": "python",
   "name": "python3"
  },
  "language_info": {
   "codemirror_mode": {
    "name": "ipython",
    "version": 3
   },
   "file_extension": ".py",
   "mimetype": "text/x-python",
   "name": "python",
   "nbconvert_exporter": "python",
   "pygments_lexer": "ipython3",
   "version": "3.10.10"
  },
  "orig_nbformat": 4
 },
 "nbformat": 4,
 "nbformat_minor": 2
}
