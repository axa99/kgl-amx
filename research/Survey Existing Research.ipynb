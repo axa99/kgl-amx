{
 "cells": [
  {
   "attachments": {},
   "cell_type": "markdown",
   "metadata": {},
   "source": [
    "List of research articles reviewed\n",
    "\n",
    "1. [Prediction of credit card defaults through data analysis and machine learning techniques - ScienceDirect](https://www.sciencedirect.com/science/article/abs/pii/S2214785321035148?via%3Dihub)\n",
    "2. [Application of Machine Learning Algorithms in Predicting Credit Card Default Payment](https://escholarship.org/uc/item/9zg7157q)"
   ]
  },
  {
   "attachments": {},
   "cell_type": "markdown",
   "metadata": {},
   "source": [
    "Used findings from the above research articles to perform initial data exploration and preliminary model creation"
   ]
  }
 ],
 "metadata": {
  "kernelspec": {
   "display_name": "Python 3",
   "language": "python",
   "name": "python3"
  },
  "language_info": {
   "codemirror_mode": {
    "name": "ipython",
    "version": 3
   },
   "file_extension": ".py",
   "mimetype": "text/x-python",
   "name": "python",
   "nbconvert_exporter": "python",
   "pygments_lexer": "ipython3",
   "version": "3.10.10"
  },
  "orig_nbformat": 4
 },
 "nbformat": 4,
 "nbformat_minor": 2
}
